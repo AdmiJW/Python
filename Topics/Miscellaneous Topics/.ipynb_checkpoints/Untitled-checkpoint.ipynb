{
 "cells": [
  {
   "cell_type": "markdown",
   "metadata": {},
   "source": [
    "# String Formatting\n",
    "\n",
    "Up until Python 3.6, it had been extended to support 3 types of string formatting (4 if you consider string module's template class)\n",
    "- %-formatting\n",
    "- str.format() method\n",
    "- f-string\n",
    "\n",
    "which is arranged from the oldest (and least recommended) up to newest (and most recommended)\n",
    "\n"
   ]
  },
  {
   "cell_type": "markdown",
   "metadata": {},
   "source": [
    "# 0.0 - First, Introducing Magic Methods `__str__` and `__repr__`!\n",
    "\n",
    "Every instance of a class can have the magic method `__str__` and `__repr__` implemented. This is similar to Java's `.toString()` method to immediately obtain the string representation of an object\n",
    "\n",
    "The difference is that `__str__` should return the __informal__ string representation of the instance. It should be __readable__ to human\n",
    "\n",
    "On the other hand, `__repr__` should return __formal__ string representation and must be __unambigious__. Note that `__repr__` can be used in place of `__str__`"
   ]
  },
  {
   "cell_type": "code",
   "execution_count": 21,
   "metadata": {},
   "outputs": [],
   "source": [
    "\n",
    "####################################\n",
    "# A class with __str__ and __repr__\n",
    "#####################################\n",
    "class MagicMethod:\n",
    "    def __str__(self):\n",
    "        return 'This is the __str__'\n",
    "    \n",
    "    def __repr__(self):\n",
    "        return 'This is the __repr__'\n",
    "    "
   ]
  },
  {
   "cell_type": "code",
   "execution_count": 20,
   "metadata": {
    "scrolled": false
   },
   "outputs": [
    {
     "name": "stdout",
     "output_type": "stream",
     "text": [
      "This is the __str__\n",
      "This is the __repr__\n",
      "This is the __repr__\n"
     ]
    }
   ],
   "source": [
    "\n",
    "magic_inst = MagicMethod()\n",
    "\n",
    "####################################\n",
    "# Print both\n",
    "#####################################\n",
    "print( str( magic_inst ) )\n",
    "print( repr( magic_inst ) )\n",
    "\n",
    "#######################################################\n",
    "# Show that if there is no __str__, __repr__ is used\n",
    "#######################################################\n",
    "del MagicMethod.__str__\n",
    "\n",
    "print( str( magic_inst) )\n"
   ]
  },
  {
   "cell_type": "markdown",
   "metadata": {},
   "source": [
    "# 1.0 - Old School %-formatting\n",
    "\n",
    "%-formatting is the oldest type of formatting. Here we will cover some of its uses:"
   ]
  },
  {
   "cell_type": "markdown",
   "metadata": {},
   "source": [
    "### 1.1 - Basic Usage"
   ]
  },
  {
   "cell_type": "code",
   "execution_count": 6,
   "metadata": {
    "scrolled": true
   },
   "outputs": [
    {
     "name": "stdout",
     "output_type": "stream",
     "text": [
      "Hi, my name is Bob\n",
      "My name is Bob and i am 20\n"
     ]
    }
   ],
   "source": [
    "\n",
    "#############################\n",
    "# BASIC USAGE\n",
    "#############################\n",
    "name = 'Bob'\n",
    "age = 20\n",
    "\n",
    "#############################\n",
    "# Single argument formatting\n",
    "#############################\n",
    "print( 'Hi, my name is %s' % name )\n",
    "\n",
    "\n",
    "########################################\n",
    "# Multiple argument formatting\n",
    "#     required to use tuple to pass in\n",
    "########################################\n",
    "print( 'My name is %s and i am %d' % (name, age) )\n"
   ]
  },
  {
   "cell_type": "markdown",
   "metadata": {},
   "source": [
    "### 1.2 - String Related Formatting"
   ]
  },
  {
   "cell_type": "code",
   "execution_count": 27,
   "metadata": {
    "scrolled": true
   },
   "outputs": [
    {
     "name": "stdout",
     "output_type": "stream",
     "text": [
      "     12345\n",
      "12345     \n",
      "123\n",
      "  123\n"
     ]
    }
   ],
   "source": [
    "\n",
    "########################################\n",
    "# Padding and Truncating\n",
    "########################################\n",
    "my_str = '12345'\n",
    "\n",
    "# Align right\n",
    "print( '%10s' % my_str )\n",
    "\n",
    "\n",
    "# Align left\n",
    "print( '%-10s' % my_str )\n",
    "\n",
    "\n",
    "# Truncate\n",
    "print( '%.3s' % my_str )\n",
    "\n",
    "\n",
    "# Combination\n",
    "print( '%5.3s' % my_str )"
   ]
  },
  {
   "cell_type": "markdown",
   "metadata": {},
   "source": [
    "### 1.3 - Numbers"
   ]
  },
  {
   "cell_type": "code",
   "execution_count": 38,
   "metadata": {},
   "outputs": [
    {
     "name": "stdout",
     "output_type": "stream",
     "text": [
      "12345 and 1.234500\n",
      "     12345\n",
      "0000012345\n",
      "1.23\n",
      "      1.23\n",
      "0000001.23\n"
     ]
    }
   ],
   "source": [
    "\n",
    "########################################\n",
    "# Numbers and floating point values\n",
    "########################################\n",
    "integer = 12345\n",
    "floating = 1.2345\n",
    "\n",
    "\n",
    "# Normal printing\n",
    "print( '%d and %f' % (integer, floating) )\n",
    "\n",
    "\n",
    "# Padding numbers - prefix with 0 to fill digit\n",
    "print( '%10d' % integer )\n",
    "print( '%010d' % integer )\n",
    "\n",
    "\n",
    "# Padding And Truncating Floating Point values\n",
    "print( '%.2f' % floating )\n",
    "print( '%10.2f' % floating )\n",
    "print( '%010.2f' % floating )\n"
   ]
  },
  {
   "cell_type": "markdown",
   "metadata": {},
   "source": [
    "### 1.4 - Named Placeholders"
   ]
  },
  {
   "cell_type": "code",
   "execution_count": 41,
   "metadata": {},
   "outputs": [
    {
     "name": "stdout",
     "output_type": "stream",
     "text": [
      "He is 15. He is Bob\n",
      "He is 15. He is Bob\n"
     ]
    }
   ],
   "source": [
    "\n",
    "########################################\n",
    "# Named Placeholders\n",
    "########################################\n",
    "\n",
    "my_dict = { 'name': 'Bob', 'age': 15 }\n",
    "\n",
    "\n",
    "# Using dictionaries\n",
    "print( 'He is %(age)d. He is %(name)s' % my_dict )\n",
    "\n",
    "\n",
    "# Direct dictionary\n",
    "print( 'He is %(age)d. He is %(name)s' % { 'name': 'Bob', 'age': 15 } )\n"
   ]
  },
  {
   "cell_type": "markdown",
   "metadata": {},
   "source": [
    "# 2.0 - Newer `str.format()`\n",
    "\n",
    "The `format` method exists in every string, and should be preferred over %-formatting\n",
    "\n",
    "A little bit similar to javascript's template literal, it uses curly braces `{}`, but nothing except formatter should be placed inside. The values are passed into the method as parameter. \n",
    "\n",
    "An immediate benefit is that, we don't have to specify the datatype."
   ]
  },
  {
   "cell_type": "markdown",
   "metadata": {},
   "source": [
    "### 2.1 - Basic Usage"
   ]
  },
  {
   "cell_type": "code",
   "execution_count": 74,
   "metadata": {},
   "outputs": [
    {
     "name": "stdout",
     "output_type": "stream",
     "text": [
      "Hi, my name is Bob\n",
      "My name is Bob and I am 20\n",
      "My age is 20 and I am Bob\n"
     ]
    }
   ],
   "source": [
    "\n",
    "#############################\n",
    "# BASIC USAGE\n",
    "#############################\n",
    "name = 'Bob'\n",
    "age = 20\n",
    "\n",
    "#############################\n",
    "# Single argument formatting\n",
    "#############################\n",
    "print( 'Hi, my name is {}'.format(name) )\n",
    "\n",
    "\n",
    "########################################\n",
    "# Multiple argument formatting\n",
    "########################################\n",
    "print( 'My name is {} and I am {}'.format(name, age) )\n",
    "\n",
    "\n",
    "############################################################\n",
    "# Each argument is indexed. We can mess with the ordering!\n",
    "############################################################\n",
    "print( 'My age is {1} and I am {0}'.format(name, age) )"
   ]
  },
  {
   "cell_type": "markdown",
   "metadata": {},
   "source": [
    "### 2.2 - String Related Formatting"
   ]
  },
  {
   "cell_type": "code",
   "execution_count": 58,
   "metadata": {},
   "outputs": [
    {
     "name": "stdout",
     "output_type": "stream",
     "text": [
      "     12345\n",
      "12345     \n",
      "  12345   \n",
      "12345_____\n",
      "_____12345\n",
      "123\n",
      "       123\n"
     ]
    }
   ],
   "source": [
    "\n",
    "########################################\n",
    "# Padding and Truncating\n",
    "########################################\n",
    "my_str = '12345'\n",
    "\n",
    "# Align right\n",
    "print( '{:>10}'.format(my_str) )\n",
    "\n",
    "\n",
    "# Align left\n",
    "print( '{:10}'.format(my_str) )\n",
    "\n",
    "\n",
    "# Align center\n",
    "print( '{:^10}'.format(my_str) )\n",
    "\n",
    "\n",
    "# Fill the padded with a specific character\n",
    "print( '{:_<10}'.format(my_str) )\n",
    "print( '{:_>10}'.format(my_str) )\n",
    "\n",
    "\n",
    "# Truncate\n",
    "print( '{:.3}'.format(my_str) )\n",
    "\n",
    "\n",
    "# Combination\n",
    "print( '{:>10.3}'.format(my_str) )"
   ]
  },
  {
   "cell_type": "markdown",
   "metadata": {},
   "source": [
    "### 2.3 - Numbers"
   ]
  },
  {
   "cell_type": "code",
   "execution_count": 65,
   "metadata": {},
   "outputs": [
    {
     "name": "stdout",
     "output_type": "stream",
     "text": [
      "12345 and 1.234500\n",
      "     12345\n",
      "0000012345\n",
      "1.23\n",
      "      1.23\n",
      "0000001.23\n"
     ]
    }
   ],
   "source": [
    "\n",
    "########################################\n",
    "# Numbers and floating point values\n",
    "########################################\n",
    "integer = 12345\n",
    "floating = 1.2345\n",
    "\n",
    "\n",
    "# Normal printing, but type specified\n",
    "print( '{:d} and {:f}'.format( integer, floating) )\n",
    "\n",
    "\n",
    "# Padding numbers - prefix with 0 to fill digit\n",
    "print( '{:10d}'.format( integer ) )\n",
    "print( '{:010d}'.format( integer ) )\n",
    "\n",
    "\n",
    "# Padding And Truncating Floating Point values\n",
    "print( '{:.2f}'.format( floating ) )\n",
    "print( '{:>10.2f}'.format( floating ) )\n",
    "print( '{:>010.2f}'.format( floating ) )\n"
   ]
  },
  {
   "cell_type": "markdown",
   "metadata": {},
   "source": [
    "### 2.4 - Named Placeholders"
   ]
  },
  {
   "cell_type": "code",
   "execution_count": 70,
   "metadata": {},
   "outputs": [
    {
     "name": "stdout",
     "output_type": "stream",
     "text": [
      "He is 15. He is Bob\n",
      "He is 15. He is Bob\n",
      "He is 15. He is Bob\n"
     ]
    }
   ],
   "source": [
    "\n",
    "########################################\n",
    "# Named Placeholders\n",
    "########################################\n",
    "\n",
    "my_dict = { 'name': 'Bob', 'age': 15 }\n",
    "\n",
    "\n",
    "# Using dictionaries - Use double ** to destructure the dictionary ( Equivalent to key=value, key=value... )\n",
    "print( 'He is {age}. He is {name}'.format( **my_dict) )\n",
    "\n",
    "\n",
    "# Direct dictionary\n",
    "print( 'He is {age}. He is {name}'.format( **{ 'name': 'Bob', 'age': 15 } ) )\n",
    "\n",
    "\n",
    "# Keyword arguments\n",
    "print( 'He is {age}. He is {name}'.format( name='Bob', age=15 ) )\n"
   ]
  },
  {
   "cell_type": "markdown",
   "metadata": {},
   "source": [
    "# 3.0 - Introducing f-string\n",
    "\n",
    "f-string is supported in Python 3.6+. It now looks more similar to the Javascript's Template Literal, where expressions can be put into curly brackets `{}`\n",
    "\n",
    "__To use it, put a single character 'f' or 'F' in front of the starting of string, (', \" or even \"\"\")__ "
   ]
  },
  {
   "cell_type": "markdown",
   "metadata": {},
   "source": [
    "### 3.1 - Basic Usage"
   ]
  },
  {
   "cell_type": "code",
   "execution_count": 81,
   "metadata": {
    "scrolled": true
   },
   "outputs": [
    {
     "name": "stdout",
     "output_type": "stream",
     "text": [
      "Hi, my name is Bob\n",
      "Hi, my name is Bob and I am 20\n",
      "Hi, my name is Dr.bob and I am 30\n"
     ]
    }
   ],
   "source": [
    "\n",
    "#############################\n",
    "# BASIC USAGE\n",
    "#############################\n",
    "name = 'Bob'\n",
    "age = 20\n",
    "\n",
    "#############################\n",
    "# Single argument formatting\n",
    "#############################\n",
    "print( f'Hi, my name is {name}' )\n",
    "\n",
    "\n",
    "########################################\n",
    "# Multiple argument formatting\n",
    "########################################\n",
    "print( f'Hi, my name is {name} and I am {age}' )\n",
    "\n",
    "\n",
    "#####################################\n",
    "# Put expressions and call methods!\n",
    "####################################\n",
    "print( f'Hi, my name is { \"Dr.\" + name.lower() } and I am {age + 10}' )"
   ]
  },
  {
   "cell_type": "markdown",
   "metadata": {},
   "source": [
    "### 3.2 - String Related Formatting\n",
    "\n",
    "To perform formatting in f-string, it is put after the expression, with colon sign `:`"
   ]
  },
  {
   "cell_type": "code",
   "execution_count": 94,
   "metadata": {},
   "outputs": [
    {
     "name": "stdout",
     "output_type": "stream",
     "text": [
      "     12345\n",
      "12345     \n",
      "  12345   \n",
      "12345_____\n",
      "_____12345\n",
      "123\n",
      "       123\n"
     ]
    }
   ],
   "source": [
    "\n",
    "########################################\n",
    "# Padding and Truncating\n",
    "########################################\n",
    "my_str = '12345'\n",
    "\n",
    "# Align right\n",
    "print( f'{my_str:>10}' )\n",
    "\n",
    "\n",
    "# Align left\n",
    "print( f'{my_str:10}' )\n",
    "\n",
    "\n",
    "# Align center\n",
    "print( f'{my_str:^10}' )\n",
    "\n",
    "\n",
    "# Fill the padded with a specific character\n",
    "print( f'{my_str:_<10}' )\n",
    "print( f'{my_str:_>10}' )\n",
    "\n",
    "\n",
    "# Truncate\n",
    "print( f'{my_str:.3}' )\n",
    "\n",
    "\n",
    "# Combination\n",
    "print( f'{my_str:>10.3}' )"
   ]
  },
  {
   "cell_type": "markdown",
   "metadata": {},
   "source": [
    "### 3.3 - Numbers"
   ]
  },
  {
   "cell_type": "code",
   "execution_count": 107,
   "metadata": {},
   "outputs": [
    {
     "name": "stdout",
     "output_type": "stream",
     "text": [
      "12345 and 1.234500\n",
      "     12345\n",
      "0000012345\n",
      "1.23\n",
      "      1.23\n",
      "0000001.23\n"
     ]
    }
   ],
   "source": [
    "\n",
    "########################################\n",
    "# Numbers and floating point values\n",
    "########################################\n",
    "integer = 12345\n",
    "floating = 1.2345\n",
    "\n",
    "\n",
    "# Normal printing, but type specified\n",
    "print( f'{integer:d} and {floating:f}' )\n",
    "\n",
    "\n",
    "# Padding numbers - prefix with 0 to fill digit\n",
    "print( f'{integer:>10}')\n",
    "print( f'{integer:>010}')\n",
    "\n",
    "\n",
    "# Padding And Truncating Floating Point values\n",
    "print( f'{floating:.3}')\n",
    "print( f'{floating:>10.3}')\n",
    "print( f'{floating:>010.3}')\n"
   ]
  },
  {
   "cell_type": "code",
   "execution_count": null,
   "metadata": {},
   "outputs": [],
   "source": []
  }
 ],
 "metadata": {
  "kernelspec": {
   "display_name": "Python 3",
   "language": "python",
   "name": "python3"
  },
  "language_info": {
   "codemirror_mode": {
    "name": "ipython",
    "version": 3
   },
   "file_extension": ".py",
   "mimetype": "text/x-python",
   "name": "python",
   "nbconvert_exporter": "python",
   "pygments_lexer": "ipython3",
   "version": "3.8.2"
  }
 },
 "nbformat": 4,
 "nbformat_minor": 4
}
